{
 "cells": [
  {
   "cell_type": "code",
   "execution_count": 201,
   "id": "c52769eb-7d8c-40b6-9e6a-260bf06f3ece",
   "metadata": {},
   "outputs": [],
   "source": [
    "import torch\n",
    "import torch.nn.functional as F\n",
    "import matplotlib.pyplot as plt\n",
    "import random\n",
    "%matplotlib inline"
   ]
  },
  {
   "cell_type": "code",
   "execution_count": 373,
   "id": "8bf3273b-900b-4e97-ba42-8486a6836966",
   "metadata": {},
   "outputs": [],
   "source": [
    "words = open('src/names.txt').read().splitlines()"
   ]
  },
  {
   "cell_type": "code",
   "execution_count": 374,
   "id": "69ed0249-06ae-4797-87cb-8ee0491000fb",
   "metadata": {},
   "outputs": [],
   "source": [
    "chars = list(sorted(set(''.join(words))))\n",
    "\n",
    "stoi = {ch:i+1 for i, ch in enumerate(chars) }\n",
    "itos = {i+1:ch for i, ch in enumerate(stoi)}\n",
    "itos[0] = '.'\n",
    "vocab_size = len(itos)\n",
    "\n",
    "stoi['.']=0"
   ]
  },
  {
   "cell_type": "code",
   "execution_count": 375,
   "id": "5543ceb5-72ad-4c7f-aac5-218d794b0356",
   "metadata": {},
   "outputs": [],
   "source": [
    "import random\n",
    "random.seed(42)\n",
    "random.shuffle(words)"
   ]
  },
  {
   "cell_type": "code",
   "execution_count": 376,
   "id": "81196064-6f66-41ad-a78f-c9e3a09c516e",
   "metadata": {},
   "outputs": [],
   "source": [
    "\n",
    "block_size = 8\n",
    "def build_dataset(words) :\n",
    "    Xs, Ys = [], []\n",
    "    for w in words:\n",
    "        context = [0] * block_size\n",
    "        for ch in w + '.':\n",
    "            Xs.append(context)\n",
    "            Ys.append(stoi[ch])\n",
    "            t =  [itos[i] for i in context]\n",
    "            context = context[1:] + [stoi[ch]]\n",
    "            \n",
    "    Xs = torch.tensor(Xs)\n",
    "    Ys = torch.tensor(Ys)\n",
    "\n",
    "    return Xs, Ys\n",
    "\n"
   ]
  },
  {
   "cell_type": "code",
   "execution_count": 377,
   "id": "9d863163-a198-4b51-b2b4-67e9ff8c4df0",
   "metadata": {},
   "outputs": [],
   "source": [
    "n1 = int(0.8 * len(words) )\n",
    "n2 = int(0.9 * len(words) )\n",
    "\n",
    "X_tr, Y_tr = build_dataset(words[:n1])\n",
    "X_val, Y_val = build_dataset(words[n1:n2])\n",
    "X_test, Y_test =  build_dataset(words[n2:])"
   ]
  },
  {
   "cell_type": "code",
   "execution_count": 441,
   "id": "002cb378-ab3a-484b-9d8a-d36912270578",
   "metadata": {},
   "outputs": [],
   "source": [
    "#PYTORCH ADAPTATION\n",
    "\n",
    "class Linear:\n",
    "\n",
    "    def __init__(self, fan_in, fan_out, bias=True):\n",
    "        self.weight = torch.randn((fan_in, fan_out)) / (fan_in**0.5)\n",
    "        self.bias = torch.randn(fan_out) if bias else None\n",
    "\n",
    "    def __call__(self, x):\n",
    "        self.out = x @ self.weight\n",
    "        if self.bias is not None:\n",
    "            self.out += self.bias\n",
    "        return self.out\n",
    "\n",
    "    def parameters(self):\n",
    "        return [self.weight] + ([] if self.bias is None else [self.bias])\n",
    "\n",
    "class BatchNorm1d:\n",
    "\n",
    "    def __init__(self, dim, eps=1e-5, momentum = 0.1):\n",
    "        self.eps = eps\n",
    "        self.momentum = momentum\n",
    "        self.training = True\n",
    "\n",
    "        self.gamma = torch.ones(dim)\n",
    "        self.beta = torch.zeros(dim)\n",
    "\n",
    "        self.running_mean = torch.zeros(dim)\n",
    "        self.running_var = torch.ones(dim)\n",
    "\n",
    "    def __call__(self, x):\n",
    "        if self.training:\n",
    "            if x.ndim == 2:\n",
    "                dim = 0\n",
    "            elif x.ndim == 3:\n",
    "                dim = (0,1)\n",
    "            xmean = x.mean(dim, keepdim = True)\n",
    "            xvar = x.var(dim, keepdim = True, unbiased = True)\n",
    "        else:\n",
    "            xmean = self.running_mean\n",
    "            xvar = self.running_var\n",
    "\n",
    "        xhat = (x - xmean) / torch.sqrt(xvar + self.eps)\n",
    "        self.out = self.gamma * xhat + self.beta\n",
    "\n",
    "        if self.training:\n",
    "            with torch.no_grad():\n",
    "                self.running_mean = (1 - self.momentum) * self.running_mean + self.momentum * xmean\n",
    "                self.running_var = (1 - self.momentum) * self.running_var + self.momentum * xvar\n",
    "        return self.out\n",
    "\n",
    "    def parameters(self):\n",
    "        return [self.gamma, self.beta]\n",
    "\n",
    "\n",
    "class Tanh:\n",
    "    def __call__(self, x):\n",
    "        self.out = torch.tanh(x)\n",
    "        return self.out\n",
    "\n",
    "    def parameters(self):\n",
    "        return []\n",
    "\n",
    "\n",
    "class Embedding:\n",
    "\n",
    "    def __init__(self, num_embedding, embedding_dim):\n",
    "        self.weights = torch.rand((num_embedding, embedding_dim))\n",
    "        \n",
    "    def __call__(self, ix):\n",
    "        self.out = self.weights[ix]\n",
    "        return self.out\n",
    "\n",
    "    def parameters(self):\n",
    "        return [self.weights]\n",
    "\n",
    "class FlattenConsecutive:\n",
    "\n",
    "    def __init__(self, n):\n",
    "        self.n = n\n",
    "    \n",
    "    def __call__(self, x):\n",
    "        B, T, C = x.shape\n",
    "        self.out = x.view(B, -1 , C * self.n).squeeze()\n",
    "        return self.out\n",
    "\n",
    "    def parameters(self):\n",
    "        return []\n",
    "        \n",
    "\n",
    "class Sequential:\n",
    "\n",
    "    def __init__(self, layers):\n",
    "        self.layers = layers\n",
    "\n",
    "    def __call__(self, x):\n",
    "        for layer in self.layers:\n",
    "            x = layer(x)\n",
    "        self.out = x\n",
    "        return self.out\n",
    "\n",
    "    def parameters(self):\n",
    "        return [p for layer in self.layers for p in layer.parameters()]\n",
    "        "
   ]
  },
  {
   "cell_type": "code",
   "execution_count": 442,
   "id": "0a77436e-282e-41d6-ae5f-44596b667981",
   "metadata": {},
   "outputs": [
    {
     "data": {
      "text/plain": [
       "<torch._C.Generator at 0x113c0fd30>"
      ]
     },
     "execution_count": 442,
     "metadata": {},
     "output_type": "execute_result"
    }
   ],
   "source": [
    "torch.manual_seed(42)"
   ]
  },
  {
   "cell_type": "code",
   "execution_count": 477,
   "id": "57973be2-8ebd-48f8-88fe-6413d73714f2",
   "metadata": {},
   "outputs": [
    {
     "name": "stdout",
     "output_type": "stream",
     "text": [
      "170897\n"
     ]
    }
   ],
   "source": [
    "n_embd = 10\n",
    "n_hidden = 200\n",
    "\n",
    "model = Sequential([\n",
    "    Embedding(vocab_size, n_embd),\n",
    "    FlattenConsecutive(2), Linear(n_embd * 2, n_hidden, bias = False), BatchNorm1d(n_hidden), Tanh(),\n",
    "    FlattenConsecutive(2), Linear(n_hidden * 2, n_hidden, bias = False), BatchNorm1d(n_hidden), Tanh(),\n",
    "    FlattenConsecutive(2), Linear(n_hidden * 2, n_hidden, bias = False), BatchNorm1d(n_hidden), Tanh(),\n",
    "    Linear(n_hidden, vocab_size)\n",
    "])\n",
    "\n",
    "with torch.no_grad():\n",
    "    model.layers[-1].weight *= 0.1\n",
    "\n",
    "parameters = model.parameters()\n",
    "print(sum(p.nelement() for p in parameters))\n",
    "for p in parameters:\n",
    "    p.requires_grad = True\n"
   ]
  },
  {
   "cell_type": "code",
   "execution_count": 478,
   "id": "e322812b-6a85-4df9-96cf-a157f65afd3f",
   "metadata": {},
   "outputs": [
    {
     "name": "stdout",
     "output_type": "stream",
     "text": [
      "0 / 200000 : 4.236364364624023\n",
      "10000 / 200000 : 1.843356966972351\n",
      "20000 / 200000 : 1.8026642799377441\n",
      "30000 / 200000 : 2.0208170413970947\n",
      "40000 / 200000 : 2.0043745040893555\n",
      "50000 / 200000 : 2.4265873432159424\n",
      "60000 / 200000 : 1.87282133102417\n",
      "70000 / 200000 : 2.0034730434417725\n",
      "80000 / 200000 : 1.9120335578918457\n",
      "90000 / 200000 : 1.9571099281311035\n",
      "100000 / 200000 : 1.6552625894546509\n",
      "110000 / 200000 : 1.9816550016403198\n",
      "120000 / 200000 : 1.748762845993042\n",
      "130000 / 200000 : 1.7368890047073364\n",
      "140000 / 200000 : 1.9384733438491821\n",
      "150000 / 200000 : 1.896120548248291\n",
      "160000 / 200000 : 1.5699182748794556\n",
      "170000 / 200000 : 1.6170673370361328\n",
      "180000 / 200000 : 2.042475938796997\n",
      "190000 / 200000 : 1.9203776121139526\n"
     ]
    }
   ],
   "source": [
    "max_steps = 200000\n",
    "batch_size = 32\n",
    "lossi = []\n",
    "for i in range(max_steps):\n",
    "        \n",
    "    ix = torch.randint(0, X_tr.shape[0], (batch_size,))\n",
    "    Xb, Yb = X_tr[ix], Y_tr[ix]\n",
    "\n",
    "    logits = model(Xb)\n",
    "    loss = F.cross_entropy(logits, Yb)\n",
    "    \n",
    "    for p in parameters:\n",
    "        \n",
    "        p.grad = None\n",
    "    loss.backward()\n",
    "\n",
    "    lr = 0.1 if i < 150000 else 0.01\n",
    "\n",
    "    for p in parameters:\n",
    "        p.data += - lr * p.grad\n",
    "\n",
    "    if i % 10000 == 0:\n",
    "        print(f'{i} / {max_steps} : {loss.item()}')\n",
    "    lossi.append(loss.log10().item())\n",
    "    "
   ]
  },
  {
   "cell_type": "code",
   "execution_count": 479,
   "id": "e798997b-3544-496d-9d92-029535176082",
   "metadata": {},
   "outputs": [
    {
     "data": {
      "text/plain": [
       "[<matplotlib.lines.Line2D at 0x131fde1d0>]"
      ]
     },
     "execution_count": 479,
     "metadata": {},
     "output_type": "execute_result"
    },
    {
     "data": {
      "image/png": "[encoded data removed]",
      "text/plain": [
       "<Figure size 640x480 with 1 Axes>"
      ]
     },
     "metadata": {},
     "output_type": "display_data"
    }
   ],
   "source": [
    "plt.plot(torch.tensor(lossi).view(-1,1000).mean(1))"
   ]
  },
  {
   "cell_type": "code",
   "execution_count": 480,
   "id": "a7575496-5a9c-4bdf-be42-3ac86896209e",
   "metadata": {},
   "outputs": [],
   "source": [
    "for layer in model.layers:\n",
    "    layer.training = False"
   ]
  },
  {
   "cell_type": "code",
   "execution_count": 481,
   "id": "7386c638-1e51-46e2-a8c7-f5ce0b6d52ee",
   "metadata": {},
   "outputs": [
    {
     "name": "stdout",
     "output_type": "stream",
     "text": [
      "train 1.735775113105774\n",
      "val 1.9876879453659058\n"
     ]
    }
   ],
   "source": [
    "@torch.no_grad() # this decorator disables gradient tracking inside pytorch\n",
    "def split_loss(split):\n",
    "  x,y = {\n",
    "    'train': (X_tr, Y_tr),\n",
    "    'val': (X_val, Y_val),\n",
    "    'test': (X_test, Y_test),\n",
    "  }[split]\n",
    "  logits = model(x)\n",
    "  loss = F.cross_entropy(logits, y)\n",
    "  print(split, loss.item())\n",
    "\n",
    "split_loss('train')\n",
    "split_loss('val')"
   ]
  },
  {
   "cell_type": "code",
   "execution_count": null,
   "id": "44316454-31df-4d73-afbe-265592c57cca",
   "metadata": {},
   "outputs": [],
   "source": []
  },
  {
   "cell_type": "code",
   "execution_count": 482,
   "id": "d8c6b5df-4073-4d8c-9277-b12a74daa288",
   "metadata": {},
   "outputs": [
    {
     "name": "stdout",
     "output_type": "stream",
     "text": [
      "genese.\n",
      "kemari.\n",
      "anikit.\n",
      "pextyn.\n",
      "octavious.\n",
      "johnnie.\n",
      "khartli.\n",
      "rosslyn.\n",
      "vihan.\n",
      "jaedon.\n",
      "adamie.\n",
      "nakarii.\n",
      "rylin.\n",
      "jemechanner.\n",
      "blaydon.\n",
      "yaanvi.\n",
      "skil.\n",
      "milaq.\n",
      "darker.\n",
      "shimu.\n"
     ]
    }
   ],
   "source": [
    "for _ in range(20):\n",
    "    \n",
    "    out = []\n",
    "    context = [0] * block_size # initialize with all ...\n",
    "    while True:\n",
    "      # forward pass the neural net\n",
    "      logits = model(torch.tensor([context]))\n",
    "      probs = F.softmax(logits, dim=1)\n",
    "      # sample from the distribution\n",
    "      ix = torch.multinomial(probs, num_samples=1).item()\n",
    "      # shift the context window and track the samples\n",
    "      context = context[1:] + [ix]\n",
    "      out.append(ix)\n",
    "      # if we sample the special '.' token, break\n",
    "      if ix == 0:\n",
    "        break\n",
    "    \n",
    "    print(''.join(itos[i] for i in out)) # decode and print the generated word"
   ]
  },
  {
   "cell_type": "code",
   "execution_count": null,
   "id": "45bb0c6c-cce9-48df-9bb1-3db7db561e0e",
   "metadata": {},
   "outputs": [],
   "source": []
  }
 ],
 "metadata": {
  "kernelspec": {
   "display_name": "Python 3 (ipykernel)",
   "language": "python",
   "name": "python3"
  },
  "language_info": {
   "codemirror_mode": {
    "name": "ipython",
    "version": 3
   },
   "file_extension": ".py",
   "mimetype": "text/x-python",
   "name": "python",
   "nbconvert_exporter": "python",
   "pygments_lexer": "ipython3",
   "version": "3.11.7"
  }
 },
 "nbformat": 4,
 "nbformat_minor": 5
}
